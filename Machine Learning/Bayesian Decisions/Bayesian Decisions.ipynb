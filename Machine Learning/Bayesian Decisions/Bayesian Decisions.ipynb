{
 "cells": [
  {
   "cell_type": "markdown",
   "id": "b0933e0f",
   "metadata": {},
   "source": [
    "# Bayesian Decisions"
   ]
  },
  {
   "cell_type": "markdown",
   "id": "0302eb85",
   "metadata": {},
   "source": [
    "PART 1 - Code Mean, Standard Deviation, Sample Mean and Covariance from scratch for util.py file"
   ]
  },
  {
   "cell_type": "code",
   "execution_count": 1,
   "id": "39ba8c51",
   "metadata": {},
   "outputs": [],
   "source": [
    "import numpy as np\n",
    "import pandas as pd\n",
    "import matplotlib.pyplot as plt\n",
    "from util import mean\n",
    "from util import stdev\n",
    "from util import sampleMean\n",
    "from util import covariance\n",
    "from classifiers import Prior"
   ]
  },
  {
   "cell_type": "markdown",
   "id": "2cf8ad04",
   "metadata": {},
   "source": [
    "Mean"
   ]
  },
  {
   "cell_type": "code",
   "execution_count": 2,
   "id": "d4990f39",
   "metadata": {},
   "outputs": [
    {
     "name": "stdout",
     "output_type": "stream",
     "text": [
      "Calculated mean is -0.013435652577778893\n",
      "NumPy mean is -0.013435652577778878\n"
     ]
    }
   ],
   "source": [
    "np_array = np.random.normal(loc=0,scale = 1, size = 1000)\n",
    "calculated_mean = mean(np_array)\n",
    "print(\"Calculated mean is\",calculated_mean)\n",
    "numpy_mean = np.mean(np_array)\n",
    "print(\"NumPy mean is\", numpy_mean)"
   ]
  },
  {
   "cell_type": "markdown",
   "id": "48ee2858",
   "metadata": {},
   "source": [
    "Standard Deviation"
   ]
  },
  {
   "cell_type": "code",
   "execution_count": 3,
   "id": "48c73e35",
   "metadata": {},
   "outputs": [
    {
     "name": "stdout",
     "output_type": "stream",
     "text": [
      "Calculated standard deviation is 1.0020129706789993\n",
      "NumPy standard deviation is 1.0020129706789993\n"
     ]
    }
   ],
   "source": [
    "calculated_stdev = stdev(np_array)\n",
    "print(\"Calculated standard deviation is\", calculated_stdev)\n",
    "numpy_stdev = np.std(np_array)\n",
    "print(\"NumPy standard deviation is\", numpy_stdev)"
   ]
  },
  {
   "cell_type": "markdown",
   "id": "55bf4aa0",
   "metadata": {},
   "source": [
    "Sample Mean"
   ]
  },
  {
   "cell_type": "code",
   "execution_count": 4,
   "id": "434f6e57",
   "metadata": {},
   "outputs": [
    {
     "name": "stdout",
     "output_type": "stream",
     "text": [
      "Calculated sample mean is [-0.07624373367424138, 0.08060099328919337, -0.05841859120556757]\n",
      "NumPy sample mean is [-0.07624373  0.08060099 -0.05841859]\n"
     ]
    }
   ],
   "source": [
    "np_array = np.random.normal(loc=0, scale=1, size=(100, 3))\n",
    "calculated_sampleMean = sampleMean(np_array)\n",
    "print(\"Calculated sample mean is\", calculated_sampleMean)\n",
    "numpy_sampleMean = np.mean(np_array, axis=0)\n",
    "print(\"NumPy sample mean is\", numpy_sampleMean)"
   ]
  },
  {
   "cell_type": "markdown",
   "id": "a9b56670",
   "metadata": {},
   "source": [
    "Covariance"
   ]
  },
  {
   "cell_type": "code",
   "execution_count": 5,
   "id": "23c8a046",
   "metadata": {},
   "outputs": [
    {
     "name": "stdout",
     "output_type": "stream",
     "text": [
      "Calculated Covariance is [[2.933089260363884, 0.2764620671520756], [0.2764620671520756, 24.94296043123498]]\n",
      "Numpy Covariance is [[ 2.93308926  0.27646207]\n",
      " [ 0.27646207 24.94296043]]\n"
     ]
    }
   ],
   "source": [
    "np.random.seed(42)\n",
    "sample_data = np.random.normal(loc=[10, 20], scale=[2, 5], size=(100, 2))\n",
    "np_array = sample_data.tolist()\n",
    "calculated_covariance = covariance(np_array)\n",
    "print(\"Calculated Covariance is\",calculated_covariance)\n",
    "numpy_covariance = np.cov(sample_data, rowvar=False)\n",
    "print(\"Numpy Covariance is\",numpy_covariance)"
   ]
  },
  {
   "cell_type": "markdown",
   "id": "9cd2c03c",
   "metadata": {},
   "source": [
    "PART 2"
   ]
  },
  {
   "cell_type": "code",
   "execution_count": 6,
   "id": "74a67e7c",
   "metadata": {},
   "outputs": [
    {
     "name": "stdout",
     "output_type": "stream",
     "text": [
      "DataFrame Description:             count        mean       std        min         25%         50%  \\\n",
      "Class                                                                        \n",
      "Not Stress  570.0   65.047852  4.954347  51.515567   61.811741   64.939011   \n",
      "Stress      430.0  110.322719  9.645487  77.587327  103.471030  110.658993   \n",
      "\n",
      "                   75%         max  \n",
      "Class                               \n",
      "Not Stress   68.223969   80.394404  \n",
      "Stress      116.504656  148.527315  \n"
     ]
    }
   ],
   "source": [
    "np.random.seed(42)\n",
    "total = 1000\n",
    "stress_count = 430\n",
    "\n",
    "stress = np.random.normal(loc=110, scale=10, size=stress_count)\n",
    "not_stress = np.random.normal(loc=65, scale=5, size=total - stress_count)\n",
    "\n",
    "data = np.concatenate([stress, not_stress])\n",
    "\n",
    "df = pd.DataFrame({\n",
    "    'Heart-Rate': data,\n",
    "    'Class': ['Stress'] * stress_count + ['Not Stress'] * (total - stress_count)\n",
    "})\n",
    "\n",
    "description = df.groupby('Class')['Heart-Rate'].describe()\n",
    "print(\"DataFrame Description:\", description)"
   ]
  },
  {
   "cell_type": "code",
   "execution_count": 8,
   "id": "814f3dcd",
   "metadata": {},
   "outputs": [
    {
     "data": {
      "image/png": "[encoded data removed]",
      "text/plain": [
       "<Figure size 800x600 with 1 Axes>"
      ]
     },
     "metadata": {},
     "output_type": "display_data"
    }
   ],
   "source": [
    "prior_class = Prior()\n",
    "prior_class.fit(df['Heart-Rate'].values, df['Class'].values)\n",
    "testing_range = np.arange(40, 141, 1)\n",
    "pred = prior_class.predict(testing_range)\n",
    "\n",
    "\n",
    "plt.figure(figsize=(8, 6))\n",
    "color_map = {'Stress': 'red', 'Not Stress': 'blue'}\n",
    "colors = [color_map[p] for p in pred]\n",
    "plt.scatter(testing_range, pred, c=colors, marker='o', label='Predictions', alpha=0.5)\n",
    "plt.xlabel('Heart-Rate')\n",
    "plt.ylabel('Predicted Class')\n",
    "plt.title('Prior Classifier Predictions')\n",
    "plt.legend()\n",
    "plt.show()\n"
   ]
  },
  {
   "cell_type": "code",
   "execution_count": null,
   "id": "812f012c",
   "metadata": {},
   "outputs": [],
   "source": []
  }
 ],
 "metadata": {
  "kernelspec": {
   "display_name": "Python 3 (ipykernel)",
   "language": "python",
   "name": "python3"
  },
  "language_info": {
   "codemirror_mode": {
    "name": "ipython",
    "version": 3
   },
   "file_extension": ".py",
   "mimetype": "text/x-python",
   "name": "python",
   "nbconvert_exporter": "python",
   "pygments_lexer": "ipython3",
   "version": "3.10.9"
  }
 },
 "nbformat": 4,
 "nbformat_minor": 5
}
